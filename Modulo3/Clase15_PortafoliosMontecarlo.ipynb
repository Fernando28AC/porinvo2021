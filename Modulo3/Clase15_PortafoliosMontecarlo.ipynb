{
 "cells": [
  {
   "cell_type": "markdown",
   "metadata": {},
   "source": [
    "# Selección de portafolios usando simulación Montecarlo"
   ]
  },
  {
   "cell_type": "markdown",
   "metadata": {},
   "source": [
    "<img style=\"float: right; margin: 0px 0px 15px 15px;\" src=\"https://upload.wikimedia.org/wikipedia/commons/thumb/6/6e/Separation_theorem_of_MPT.svg/2000px-Separation_theorem_of_MPT.svg.png\" width=\"400px\" height=\"400px\" />\n",
    "\n",
    "> Durante el curso, específicamente en los módulos dos y tres, elaboramos toda la fundamentación de la teoría moderna de portafolios de Markowitz. Ésta se basa en la existencia de una línea especial en el espacio de rendimiento esperado vs. volatilidad, llamada **frontera de mínima varianza**.\n",
    "\n",
    "> Al finalizar el módulo 3, vimos que no importa la cantidad de activos riesgosos que se tengan, si encontramos dos portafolios sobre la frontera eficiente, podemos reconstruirla. Dos portafolios importantes que hallamos en el curso fueron:\n",
    "\n",
    "> - **Portafolio de mínima varianza**: minimizando la varianza.\n",
    "> - **Portafolio eficiente en media varianza**: maximizando el radio de Sharpe.\n",
    "\n",
    "> Por otra parte, resolver problemas de optimización cuando la cantidad de variables crece, se vuelve un problema complejo, computacionalmente hablando. Así que desarrollar métodos alternativos a la optimización que nos permitan encontrar los anteriores portafolios es de gran interés..."
   ]
  },
  {
   "cell_type": "markdown",
   "metadata": {},
   "source": [
    "## 1. Descargamos activos de la BMV\n",
    "\n",
    "Por simplicidad, y para entender las ideas alrededor de la selección de portafolios usando simulación montecarlo, utilizaremos únicamente tres activos de la BMV: America Movil SAB de CV L\t(AMXL.MX), Walmart de Mexico SAB de CV\t(WALMEX.MX) y Fomento Economico Mexicano S.A.B. de C.V.\t(FEMSAUBD.MX)."
   ]
  },
  {
   "cell_type": "markdown",
   "metadata": {},
   "source": [
    "1.1. Descargar precios mensuales ajustados en el cierre para los tres activos mencionados anteriormente en los últimos 5 años:"
   ]
  },
  {
   "cell_type": "code",
   "execution_count": 1,
   "metadata": {},
   "outputs": [],
   "source": [
    "# Importar librerías\n",
    "import numpy as np\n",
    "import pandas as pd\n",
    "import pandas_datareader.data as web\n",
    "import matplotlib.pyplot as plt\n",
    "%matplotlib inline"
   ]
  },
  {
   "cell_type": "code",
   "execution_count": 2,
   "metadata": {},
   "outputs": [],
   "source": [
    "# Función para descargar precios de cierre ajustados:\n",
    "def get_adj_closes(tickers, start_date=None, end_date=None, freq='m'):\n",
    "    # Fecha inicio por defecto (start_date='2010-01-01') y fecha fin por defecto (end_date=today)\n",
    "    # Descargamos DataFrame con todos los datos\n",
    "    closes = web.YahooDailyReader(symbols=tickers, start=start_date, end=end_date, interval=freq).read()['Adj Close']\n",
    "    # Se ordenan los índices de manera ascendente\n",
    "    closes.sort_index(inplace=True)\n",
    "    return closes"
   ]
  },
  {
   "cell_type": "code",
   "execution_count": 3,
   "metadata": {},
   "outputs": [],
   "source": [
    "# Descargar precios y graficar\n",
    "closes = get_adj_closes(tickers=[\"AMXL.MX\", \"WALMEX.MX\", \"FEMSAUBD.MX\"],\n",
    "                        start_date=\"2016-01-01\")"
   ]
  },
  {
   "cell_type": "code",
   "execution_count": 4,
   "metadata": {},
   "outputs": [
    {
     "data": {
      "image/png": "[encoded data removed]",
      "text/plain": [
       "<Figure size 432x288 with 1 Axes>"
      ]
     },
     "metadata": {
      "needs_background": "light"
     },
     "output_type": "display_data"
    }
   ],
   "source": [
    "closes.plot();"
   ]
  },
  {
   "cell_type": "code",
   "execution_count": 5,
   "metadata": {},
   "outputs": [
    {
     "data": {
      "text/html": [
       "<div>\n",
       "<style scoped>\n",
       "    .dataframe tbody tr th:only-of-type {\n",
       "        vertical-align: middle;\n",
       "    }\n",
       "\n",
       "    .dataframe tbody tr th {\n",
       "        vertical-align: top;\n",
       "    }\n",
       "\n",
       "    .dataframe thead th {\n",
       "        text-align: right;\n",
       "    }\n",
       "</style>\n",
       "<table border=\"1\" class=\"dataframe\">\n",
       "  <thead>\n",
       "    <tr style=\"text-align: right;\">\n",
       "      <th>Symbols</th>\n",
       "      <th>AMXL.MX</th>\n",
       "      <th>WALMEX.MX</th>\n",
       "      <th>FEMSAUBD.MX</th>\n",
       "    </tr>\n",
       "    <tr>\n",
       "      <th>Date</th>\n",
       "      <th></th>\n",
       "      <th></th>\n",
       "      <th></th>\n",
       "    </tr>\n",
       "  </thead>\n",
       "  <tbody>\n",
       "    <tr>\n",
       "      <th>2016-01-01</th>\n",
       "      <td>11.013456</td>\n",
       "      <td>38.900986</td>\n",
       "      <td>153.211258</td>\n",
       "    </tr>\n",
       "    <tr>\n",
       "      <th>2016-02-01</th>\n",
       "      <td>10.625963</td>\n",
       "      <td>36.443008</td>\n",
       "      <td>151.516983</td>\n",
       "    </tr>\n",
       "    <tr>\n",
       "      <th>2016-03-01</th>\n",
       "      <td>11.564561</td>\n",
       "      <td>35.108040</td>\n",
       "      <td>148.743607</td>\n",
       "    </tr>\n",
       "    <tr>\n",
       "      <th>2016-04-01</th>\n",
       "      <td>10.470963</td>\n",
       "      <td>36.435287</td>\n",
       "      <td>142.751083</td>\n",
       "    </tr>\n",
       "    <tr>\n",
       "      <th>2016-05-01</th>\n",
       "      <td>9.721808</td>\n",
       "      <td>37.268070</td>\n",
       "      <td>148.690094</td>\n",
       "    </tr>\n",
       "  </tbody>\n",
       "</table>\n",
       "</div>"
      ],
      "text/plain": [
       "Symbols       AMXL.MX  WALMEX.MX  FEMSAUBD.MX\n",
       "Date                                         \n",
       "2016-01-01  11.013456  38.900986   153.211258\n",
       "2016-02-01  10.625963  36.443008   151.516983\n",
       "2016-03-01  11.564561  35.108040   148.743607\n",
       "2016-04-01  10.470963  36.435287   142.751083\n",
       "2016-05-01   9.721808  37.268070   148.690094"
      ]
     },
     "execution_count": 5,
     "metadata": {},
     "output_type": "execute_result"
    }
   ],
   "source": [
    "closes.head()"
   ]
  },
  {
   "cell_type": "markdown",
   "metadata": {},
   "source": [
    "1.2. A partir de los precios, obtener los rendimientos mensuales:"
   ]
  },
  {
   "cell_type": "code",
   "execution_count": 6,
   "metadata": {},
   "outputs": [],
   "source": [
    "# Obtener rendimientos mensuales y graficar\n",
    "ret = closes.pct_change().dropna()"
   ]
  },
  {
   "cell_type": "code",
   "execution_count": 7,
   "metadata": {},
   "outputs": [
    {
     "data": {
      "image/png": "[encoded data removed]",
      "text/plain": [
       "<Figure size 432x288 with 1 Axes>"
      ]
     },
     "metadata": {
      "needs_background": "light"
     },
     "output_type": "display_data"
    }
   ],
   "source": [
    "ret.plot();"
   ]
  },
  {
   "cell_type": "markdown",
   "metadata": {},
   "source": [
    "1.3. Finalmente, a partir de los rendimientos mensuales, estimar la tendencia central de los rendimientos (rendimiento esperado), y caracterizar el riesgo de los activos (varianzas y covarianzas)"
   ]
  },
  {
   "cell_type": "code",
   "execution_count": 8,
   "metadata": {},
   "outputs": [
    {
     "data": {
      "text/html": [
       "<div>\n",
       "<style scoped>\n",
       "    .dataframe tbody tr th:only-of-type {\n",
       "        vertical-align: middle;\n",
       "    }\n",
       "\n",
       "    .dataframe tbody tr th {\n",
       "        vertical-align: top;\n",
       "    }\n",
       "\n",
       "    .dataframe thead th {\n",
       "        text-align: right;\n",
       "    }\n",
       "</style>\n",
       "<table border=\"1\" class=\"dataframe\">\n",
       "  <thead>\n",
       "    <tr style=\"text-align: right;\">\n",
       "      <th></th>\n",
       "      <th>Media</th>\n",
       "      <th>Vol</th>\n",
       "    </tr>\n",
       "    <tr>\n",
       "      <th>Symbols</th>\n",
       "      <th></th>\n",
       "      <th></th>\n",
       "    </tr>\n",
       "  </thead>\n",
       "  <tbody>\n",
       "    <tr>\n",
       "      <th>AMXL.MX</th>\n",
       "      <td>0.008779</td>\n",
       "      <td>0.061896</td>\n",
       "    </tr>\n",
       "    <tr>\n",
       "      <th>WALMEX.MX</th>\n",
       "      <td>0.009576</td>\n",
       "      <td>0.045582</td>\n",
       "    </tr>\n",
       "    <tr>\n",
       "      <th>FEMSAUBD.MX</th>\n",
       "      <td>0.002894</td>\n",
       "      <td>0.057158</td>\n",
       "    </tr>\n",
       "  </tbody>\n",
       "</table>\n",
       "</div>"
      ],
      "text/plain": [
       "                Media       Vol\n",
       "Symbols                        \n",
       "AMXL.MX      0.008779  0.061896\n",
       "WALMEX.MX    0.009576  0.045582\n",
       "FEMSAUBD.MX  0.002894  0.057158"
      ]
     },
     "execution_count": 8,
     "metadata": {},
     "output_type": "execute_result"
    }
   ],
   "source": [
    "# Resumen: rendimiento medio mensual y volatilidad\n",
    "ret_summary = pd.DataFrame({\"Media\": ret.mean(),\n",
    "                            \"Vol\": ret.std()})\n",
    "ret_summary"
   ]
  },
  {
   "cell_type": "code",
   "execution_count": 11,
   "metadata": {},
   "outputs": [
    {
     "data": {
      "text/html": [
       "<div>\n",
       "<style scoped>\n",
       "    .dataframe tbody tr th:only-of-type {\n",
       "        vertical-align: middle;\n",
       "    }\n",
       "\n",
       "    .dataframe tbody tr th {\n",
       "        vertical-align: top;\n",
       "    }\n",
       "\n",
       "    .dataframe thead th {\n",
       "        text-align: right;\n",
       "    }\n",
       "</style>\n",
       "<table border=\"1\" class=\"dataframe\">\n",
       "  <thead>\n",
       "    <tr style=\"text-align: right;\">\n",
       "      <th>Symbols</th>\n",
       "      <th>AMXL.MX</th>\n",
       "      <th>WALMEX.MX</th>\n",
       "      <th>FEMSAUBD.MX</th>\n",
       "    </tr>\n",
       "    <tr>\n",
       "      <th>Symbols</th>\n",
       "      <th></th>\n",
       "      <th></th>\n",
       "      <th></th>\n",
       "    </tr>\n",
       "  </thead>\n",
       "  <tbody>\n",
       "    <tr>\n",
       "      <th>AMXL.MX</th>\n",
       "      <td>0.003831</td>\n",
       "      <td>0.000419</td>\n",
       "      <td>0.001654</td>\n",
       "    </tr>\n",
       "    <tr>\n",
       "      <th>WALMEX.MX</th>\n",
       "      <td>0.000419</td>\n",
       "      <td>0.002078</td>\n",
       "      <td>0.000948</td>\n",
       "    </tr>\n",
       "    <tr>\n",
       "      <th>FEMSAUBD.MX</th>\n",
       "      <td>0.001654</td>\n",
       "      <td>0.000948</td>\n",
       "      <td>0.003267</td>\n",
       "    </tr>\n",
       "  </tbody>\n",
       "</table>\n",
       "</div>"
      ],
      "text/plain": [
       "Symbols       AMXL.MX  WALMEX.MX  FEMSAUBD.MX\n",
       "Symbols                                      \n",
       "AMXL.MX      0.003831   0.000419     0.001654\n",
       "WALMEX.MX    0.000419   0.002078     0.000948\n",
       "FEMSAUBD.MX  0.001654   0.000948     0.003267"
      ]
     },
     "execution_count": 11,
     "metadata": {},
     "output_type": "execute_result"
    }
   ],
   "source": [
    "# Matriz de covarianza\n",
    "Sigma = ret.cov()\n",
    "Sigma"
   ]
  },
  {
   "cell_type": "code",
   "execution_count": 12,
   "metadata": {},
   "outputs": [
    {
     "data": {
      "text/html": [
       "<div>\n",
       "<style scoped>\n",
       "    .dataframe tbody tr th:only-of-type {\n",
       "        vertical-align: middle;\n",
       "    }\n",
       "\n",
       "    .dataframe tbody tr th {\n",
       "        vertical-align: top;\n",
       "    }\n",
       "\n",
       "    .dataframe thead th {\n",
       "        text-align: right;\n",
       "    }\n",
       "</style>\n",
       "<table border=\"1\" class=\"dataframe\">\n",
       "  <thead>\n",
       "    <tr style=\"text-align: right;\">\n",
       "      <th>Symbols</th>\n",
       "      <th>AMXL.MX</th>\n",
       "      <th>WALMEX.MX</th>\n",
       "      <th>FEMSAUBD.MX</th>\n",
       "    </tr>\n",
       "    <tr>\n",
       "      <th>Symbols</th>\n",
       "      <th></th>\n",
       "      <th></th>\n",
       "      <th></th>\n",
       "    </tr>\n",
       "  </thead>\n",
       "  <tbody>\n",
       "    <tr>\n",
       "      <th>AMXL.MX</th>\n",
       "      <td>1.000000</td>\n",
       "      <td>0.148482</td>\n",
       "      <td>0.467524</td>\n",
       "    </tr>\n",
       "    <tr>\n",
       "      <th>WALMEX.MX</th>\n",
       "      <td>0.148482</td>\n",
       "      <td>1.000000</td>\n",
       "      <td>0.363738</td>\n",
       "    </tr>\n",
       "    <tr>\n",
       "      <th>FEMSAUBD.MX</th>\n",
       "      <td>0.467524</td>\n",
       "      <td>0.363738</td>\n",
       "      <td>1.000000</td>\n",
       "    </tr>\n",
       "  </tbody>\n",
       "</table>\n",
       "</div>"
      ],
      "text/plain": [
       "Symbols       AMXL.MX  WALMEX.MX  FEMSAUBD.MX\n",
       "Symbols                                      \n",
       "AMXL.MX      1.000000   0.148482     0.467524\n",
       "WALMEX.MX    0.148482   1.000000     0.363738\n",
       "FEMSAUBD.MX  0.467524   0.363738     1.000000"
      ]
     },
     "execution_count": 12,
     "metadata": {},
     "output_type": "execute_result"
    }
   ],
   "source": [
    "# Matriz de correlación\n",
    "corr = ret.corr()\n",
    "corr"
   ]
  },
  {
   "cell_type": "markdown",
   "metadata": {},
   "source": [
    "___\n",
    "## 2. Selección de portafolios mediante montecarlo\n",
    "\n",
    "Antes de continuar, consultamos la tasa libre de riesgo al día de hoy en [Banxico](http://www.banxico.org.mx/):"
   ]
  },
  {
   "cell_type": "code",
   "execution_count": 31,
   "metadata": {},
   "outputs": [],
   "source": [
    "# Tasa libre de riesgo\n",
    "rf = 0.0483 / 12"
   ]
  },
  {
   "cell_type": "markdown",
   "metadata": {},
   "source": [
    "¿Alguien tiene alguna idea de lo que es simulación montecarlo?\n",
    "\n",
    "En cuanto a la selección de portafolios, lo que hacemos es simular una gran cantidad de posibles portafolios que se pueden construir con los activos dados (generamos muchas ponderaciones posibles), y calculamos su rendimiento esperado y volatilidad para dibujarlos, y así poder identificar objetos de interés:\n",
    "\n",
    "- frontera eficiente;\n",
    "- portafolio de mínima varianza;\n",
    "- portafolio EMV..."
   ]
  },
  {
   "cell_type": "code",
   "execution_count": 32,
   "metadata": {},
   "outputs": [],
   "source": [
    "# Definimos el número de portafolios que simularemos, y la cantidad de activos que tenemos\n",
    "n_port = 100000\n",
    "n_act = 3"
   ]
  },
  {
   "cell_type": "markdown",
   "metadata": {},
   "source": [
    "2.1. Generamos los portafolios"
   ]
  },
  {
   "cell_type": "code",
   "execution_count": 33,
   "metadata": {},
   "outputs": [],
   "source": [
    "# Ayuda en la funcion numpy.random.dirichlet\n",
    "np.random.dirichlet?"
   ]
  },
  {
   "cell_type": "code",
   "execution_count": 34,
   "metadata": {
    "scrolled": true
   },
   "outputs": [],
   "source": [
    "# Generar una matriz de pesos de n_portafolios x n_activos,\n",
    "# tal que cada fila sume uno (recordar restricción)\n",
    "W = np.random.dirichlet(alpha=np.ones(n_act), size=n_port)"
   ]
  },
  {
   "cell_type": "code",
   "execution_count": 35,
   "metadata": {},
   "outputs": [
    {
     "data": {
      "text/plain": [
       "(100000, 3)"
      ]
     },
     "execution_count": 35,
     "metadata": {},
     "output_type": "execute_result"
    }
   ],
   "source": [
    "W.shape"
   ]
  },
  {
   "cell_type": "code",
   "execution_count": 36,
   "metadata": {},
   "outputs": [
    {
     "data": {
      "text/plain": [
       "array([[0.86084505, 0.1265953 , 0.01255965],\n",
       "       [0.1500225 , 0.52299016, 0.32698733],\n",
       "       [0.0292241 , 0.58564536, 0.38513054],\n",
       "       [0.65582515, 0.09070107, 0.25347379],\n",
       "       [0.38417133, 0.19473441, 0.42109426]])"
      ]
     },
     "execution_count": 36,
     "metadata": {},
     "output_type": "execute_result"
    }
   ],
   "source": [
    "W[:5]"
   ]
  },
  {
   "cell_type": "code",
   "execution_count": 37,
   "metadata": {},
   "outputs": [
    {
     "data": {
      "text/plain": [
       "array([1., 1., 1., ..., 1., 1., 1.])"
      ]
     },
     "execution_count": 37,
     "metadata": {},
     "output_type": "execute_result"
    }
   ],
   "source": [
    "W.sum(axis=1)"
   ]
  },
  {
   "cell_type": "code",
   "execution_count": 38,
   "metadata": {},
   "outputs": [],
   "source": [
    "# Rendimientos y volatilidad de cada portafolios\n",
    "er = W.dot(ret_summary[\"Media\"])"
   ]
  },
  {
   "cell_type": "code",
   "execution_count": 39,
   "metadata": {},
   "outputs": [
    {
     "data": {
      "text/plain": [
       "(100000,)"
      ]
     },
     "execution_count": 39,
     "metadata": {},
     "output_type": "execute_result"
    }
   ],
   "source": [
    "er.shape"
   ]
  },
  {
   "cell_type": "code",
   "execution_count": 40,
   "metadata": {},
   "outputs": [],
   "source": [
    "s = np.zeros(n_port)\n",
    "for i in range(n_port):\n",
    "    s[i] = (W[i, :].T.dot(Sigma).dot(W[i, :]))**0.5"
   ]
  },
  {
   "cell_type": "code",
   "execution_count": 41,
   "metadata": {},
   "outputs": [
    {
     "data": {
      "text/plain": [
       "(100000,)"
      ]
     },
     "execution_count": 41,
     "metadata": {},
     "output_type": "execute_result"
    }
   ],
   "source": [
    "s.shape"
   ]
  },
  {
   "cell_type": "code",
   "execution_count": 42,
   "metadata": {},
   "outputs": [
    {
     "data": {
      "text/plain": [
       "array([0.05479922, 0.03944576, 0.0409821 , ..., 0.05270305, 0.04126159,\n",
       "       0.04180196])"
      ]
     },
     "execution_count": 42,
     "metadata": {},
     "output_type": "execute_result"
    }
   ],
   "source": [
    "s"
   ]
  },
  {
   "cell_type": "code",
   "execution_count": 43,
   "metadata": {},
   "outputs": [],
   "source": [
    "# Radio de Sharpe\n",
    "rs = (er - rf) / s"
   ]
  },
  {
   "cell_type": "code",
   "execution_count": 44,
   "metadata": {},
   "outputs": [],
   "source": [
    "# Data frame de resultados\n",
    "portafolios_montecarlo = pd.DataFrame(\n",
    "    {\n",
    "        \"w_AMXL\": W[:, 0],\n",
    "        \"w2_WALMEX\": W[:, 1],\n",
    "        \"w3_FEMSAUBD\": W[:, 2],\n",
    "        \"Media\": er,\n",
    "        \"Vol\": s,\n",
    "        \"RS\": rs\n",
    "    }\n",
    ")"
   ]
  },
  {
   "cell_type": "code",
   "execution_count": 45,
   "metadata": {},
   "outputs": [
    {
     "data": {
      "text/html": [
       "<div>\n",
       "<style scoped>\n",
       "    .dataframe tbody tr th:only-of-type {\n",
       "        vertical-align: middle;\n",
       "    }\n",
       "\n",
       "    .dataframe tbody tr th {\n",
       "        vertical-align: top;\n",
       "    }\n",
       "\n",
       "    .dataframe thead th {\n",
       "        text-align: right;\n",
       "    }\n",
       "</style>\n",
       "<table border=\"1\" class=\"dataframe\">\n",
       "  <thead>\n",
       "    <tr style=\"text-align: right;\">\n",
       "      <th></th>\n",
       "      <th>w_AMXL</th>\n",
       "      <th>w2_WALMEX</th>\n",
       "      <th>w3_FEMSAUBD</th>\n",
       "      <th>Media</th>\n",
       "      <th>Vol</th>\n",
       "      <th>RS</th>\n",
       "    </tr>\n",
       "  </thead>\n",
       "  <tbody>\n",
       "    <tr>\n",
       "      <th>0</th>\n",
       "      <td>0.860845</td>\n",
       "      <td>0.126595</td>\n",
       "      <td>0.012560</td>\n",
       "      <td>0.008806</td>\n",
       "      <td>0.054799</td>\n",
       "      <td>0.087252</td>\n",
       "    </tr>\n",
       "    <tr>\n",
       "      <th>1</th>\n",
       "      <td>0.150023</td>\n",
       "      <td>0.522990</td>\n",
       "      <td>0.326987</td>\n",
       "      <td>0.007272</td>\n",
       "      <td>0.039446</td>\n",
       "      <td>0.082308</td>\n",
       "    </tr>\n",
       "    <tr>\n",
       "      <th>2</th>\n",
       "      <td>0.029224</td>\n",
       "      <td>0.585645</td>\n",
       "      <td>0.385131</td>\n",
       "      <td>0.006979</td>\n",
       "      <td>0.040982</td>\n",
       "      <td>0.072091</td>\n",
       "    </tr>\n",
       "    <tr>\n",
       "      <th>3</th>\n",
       "      <td>0.655825</td>\n",
       "      <td>0.090701</td>\n",
       "      <td>0.253474</td>\n",
       "      <td>0.007360</td>\n",
       "      <td>0.050181</td>\n",
       "      <td>0.066456</td>\n",
       "    </tr>\n",
       "    <tr>\n",
       "      <th>4</th>\n",
       "      <td>0.384171</td>\n",
       "      <td>0.194734</td>\n",
       "      <td>0.421094</td>\n",
       "      <td>0.006456</td>\n",
       "      <td>0.044461</td>\n",
       "      <td>0.054681</td>\n",
       "    </tr>\n",
       "  </tbody>\n",
       "</table>\n",
       "</div>"
      ],
      "text/plain": [
       "     w_AMXL  w2_WALMEX  w3_FEMSAUBD     Media       Vol        RS\n",
       "0  0.860845   0.126595     0.012560  0.008806  0.054799  0.087252\n",
       "1  0.150023   0.522990     0.326987  0.007272  0.039446  0.082308\n",
       "2  0.029224   0.585645     0.385131  0.006979  0.040982  0.072091\n",
       "3  0.655825   0.090701     0.253474  0.007360  0.050181  0.066456\n",
       "4  0.384171   0.194734     0.421094  0.006456  0.044461  0.054681"
      ]
     },
     "execution_count": 45,
     "metadata": {},
     "output_type": "execute_result"
    }
   ],
   "source": [
    "portafolios_montecarlo.head()"
   ]
  },
  {
   "cell_type": "markdown",
   "metadata": {},
   "source": [
    "2.2. Aproximar portafolio de mínima varianza y portafolio eficiente en media varianza"
   ]
  },
  {
   "cell_type": "code",
   "execution_count": 47,
   "metadata": {},
   "outputs": [
    {
     "data": {
      "text/plain": [
       "w_AMXL         0.278668\n",
       "w2_WALMEX      0.721131\n",
       "w3_FEMSAUBD    0.000202\n",
       "Media          0.009353\n",
       "Vol            0.039330\n",
       "RS             0.135471\n",
       "Name: 53436, dtype: float64"
      ]
     },
     "execution_count": 47,
     "metadata": {},
     "output_type": "execute_result"
    }
   ],
   "source": [
    "# Portafolio EMV\n",
    "emv = portafolios_montecarlo.loc[portafolios_montecarlo[\"RS\"].idxmax()]\n",
    "emv"
   ]
  },
  {
   "cell_type": "code",
   "execution_count": 48,
   "metadata": {},
   "outputs": [
    {
     "data": {
      "text/plain": [
       "w_AMXL         0.255848\n",
       "w2_WALMEX      0.591323\n",
       "w3_FEMSAUBD    0.152829\n",
       "Media          0.008351\n",
       "Vol            0.038483\n",
       "RS             0.112417\n",
       "Name: 30485, dtype: float64"
      ]
     },
     "execution_count": 48,
     "metadata": {},
     "output_type": "execute_result"
    }
   ],
   "source": [
    "# Portafolio mínima varianza\n",
    "minvar = portafolios_montecarlo.loc[portafolios_montecarlo[\"Vol\"].idxmin()]\n",
    "minvar"
   ]
  },
  {
   "cell_type": "markdown",
   "metadata": {},
   "source": [
    "2.3. Dibujar todos los portafolios en el espacio de rendimiento esperado vs. volatilidad"
   ]
  },
  {
   "cell_type": "code",
   "execution_count": 52,
   "metadata": {},
   "outputs": [
    {
     "data": {
      "text/plain": [
       "[0.035, 0.065, 0, 0.012]"
      ]
     },
     "execution_count": 52,
     "metadata": {},
     "output_type": "execute_result"
    },
    {
     "data": {
      "image/png": "[encoded data removed]",
      "text/plain": [
       "<Figure size 432x288 with 2 Axes>"
      ]
     },
     "metadata": {
      "needs_background": "light"
     },
     "output_type": "display_data"
    }
   ],
   "source": [
    "# Gráfica\n",
    "plt.figure(figsize=(6, 4))\n",
    "plt.scatter(portafolios_montecarlo[\"Vol\"],\n",
    "            portafolios_montecarlo[\"Media\"],\n",
    "            c=portafolios_montecarlo[\"RS\"],\n",
    "            cmap=\"inferno\", \n",
    "            label=\"Port. Aleatorios\")\n",
    "plt.plot(minvar[\"Vol\"], minvar[\"Media\"], '*g', ms=20, label=\"Port. Min. Var\")\n",
    "plt.plot(emv[\"Vol\"], emv[\"Media\"], '*b', ms=20, label=\"Port. EMV\")\n",
    "for ticker in [\"AMXL.MX\", \"WALMEX.MX\", \"FEMSAUBD.MX\"]:\n",
    "    plt.plot(ret_summary.loc[ticker, \"Vol\"], ret_summary.loc[ticker, \"Media\"], 'o', ms=10, label=ticker)\n",
    "plt.xlabel(\"Volatilidad\")\n",
    "plt.ylabel(\"Rendimiento esperado\")\n",
    "plt.colorbar()\n",
    "plt.legend(loc=\"upper left\", bbox_to_anchor=(1.3, 1))\n",
    "plt.axis([0.035, 0.065, 0, 0.012])"
   ]
  },
  {
   "cell_type": "markdown",
   "metadata": {},
   "source": [
    "## 3. Comparar con los resultados obtenidos por optimización"
   ]
  },
  {
   "cell_type": "markdown",
   "metadata": {},
   "source": [
    "3.1. Portafolio de mínima varianza"
   ]
  },
  {
   "cell_type": "code",
   "execution_count": null,
   "metadata": {},
   "outputs": [],
   "source": [
    "# Importamos funcion minimize del modulo optimize de scipy\n"
   ]
  },
  {
   "cell_type": "code",
   "execution_count": null,
   "metadata": {},
   "outputs": [],
   "source": [
    "## Construcción de parámetros\n",
    "# 1. Sigma: matriz de varianza-covarianza\n",
    "\n",
    "# 2. Eind: rendimientos esperados activos individuales\n"
   ]
  },
  {
   "cell_type": "code",
   "execution_count": null,
   "metadata": {},
   "outputs": [],
   "source": [
    "# Función objetivo\n"
   ]
  },
  {
   "cell_type": "code",
   "execution_count": null,
   "metadata": {},
   "outputs": [],
   "source": [
    "# Dato inicial\n",
    "\n",
    "# Cotas de las variables\n",
    "\n",
    "# Restricciones\n"
   ]
  },
  {
   "cell_type": "code",
   "execution_count": null,
   "metadata": {},
   "outputs": [],
   "source": []
  },
  {
   "cell_type": "code",
   "execution_count": null,
   "metadata": {},
   "outputs": [],
   "source": [
    "# Portafolio Min var\n"
   ]
  },
  {
   "cell_type": "code",
   "execution_count": null,
   "metadata": {},
   "outputs": [],
   "source": [
    "# Comparar\n"
   ]
  },
  {
   "cell_type": "code",
   "execution_count": 53,
   "metadata": {},
   "outputs": [
    {
     "data": {
      "text/plain": [
       "w_AMXL         0.255848\n",
       "w2_WALMEX      0.591323\n",
       "w3_FEMSAUBD    0.152829\n",
       "Media          0.008351\n",
       "Vol            0.038483\n",
       "RS             0.112417\n",
       "Name: 30485, dtype: float64"
      ]
     },
     "execution_count": 53,
     "metadata": {},
     "output_type": "execute_result"
    }
   ],
   "source": [
    "minvar"
   ]
  },
  {
   "cell_type": "markdown",
   "metadata": {},
   "source": [
    "3.2. Portafolio EMV"
   ]
  },
  {
   "cell_type": "code",
   "execution_count": null,
   "metadata": {},
   "outputs": [],
   "source": [
    "# Función objetivo\n"
   ]
  },
  {
   "cell_type": "code",
   "execution_count": null,
   "metadata": {},
   "outputs": [],
   "source": [
    "# Dato inicial\n",
    "\n",
    "# Cotas de las variables\n",
    "\n",
    "# Restricciones\n"
   ]
  },
  {
   "cell_type": "code",
   "execution_count": null,
   "metadata": {},
   "outputs": [],
   "source": [
    "# Portafolio EMV\n"
   ]
  },
  {
   "cell_type": "code",
   "execution_count": null,
   "metadata": {},
   "outputs": [],
   "source": [
    "# Comparar\n"
   ]
  },
  {
   "cell_type": "code",
   "execution_count": 54,
   "metadata": {},
   "outputs": [
    {
     "data": {
      "text/plain": [
       "w_AMXL         0.278668\n",
       "w2_WALMEX      0.721131\n",
       "w3_FEMSAUBD    0.000202\n",
       "Media          0.009353\n",
       "Vol            0.039330\n",
       "RS             0.135471\n",
       "Name: 53436, dtype: float64"
      ]
     },
     "execution_count": 54,
     "metadata": {},
     "output_type": "execute_result"
    }
   ],
   "source": [
    "emv"
   ]
  },
  {
   "cell_type": "markdown",
   "metadata": {},
   "source": [
    "# Conclusión\n",
    "\n",
    "- Tenemos una herramienta para aproximar toda la teoría de Markowitz.\n",
    "\n",
    "- Esta herramienta no involucra optimización, solo generar números aleatorios en el símplex unitario.\n",
    "\n",
    "- Por tanto, no le afecta el problema de dimensión (cuando tenemos muchos activos)."
   ]
  },
  {
   "cell_type": "markdown",
   "metadata": {},
   "source": [
    "# Anuncios parroquiales\n",
    "\n",
    "## 1. Fin de módulo. Abrir Clase0 y revisar objetivos del módulo."
   ]
  },
  {
   "cell_type": "markdown",
   "metadata": {},
   "source": [
    "<script>\n",
    "  $(document).ready(function(){\n",
    "    $('div.prompt').hide();\n",
    "    $('div.back-to-top').hide();\n",
    "    $('nav#menubar').hide();\n",
    "    $('.breadcrumb').hide();\n",
    "    $('.hidden-print').hide();\n",
    "  });\n",
    "</script>\n",
    "\n",
    "<footer id=\"attribution\" style=\"float:right; color:#808080; background:#fff;\">\n",
    "Created with Jupyter by Esteban Jiménez Rodríguez.\n",
    "</footer>"
   ]
  }
 ],
 "metadata": {
  "kernelspec": {
   "display_name": "Python 3",
   "language": "python",
   "name": "python3"
  },
  "language_info": {
   "codemirror_mode": {
    "name": "ipython",
    "version": 3
   },
   "file_extension": ".py",
   "mimetype": "text/x-python",
   "name": "python",
   "nbconvert_exporter": "python",
   "pygments_lexer": "ipython3",
   "version": "3.7.6"
  }
 },
 "nbformat": 4,
 "nbformat_minor": 2
}
