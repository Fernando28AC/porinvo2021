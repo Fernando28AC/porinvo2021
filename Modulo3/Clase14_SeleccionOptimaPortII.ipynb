{
 "cells": [
  {
   "cell_type": "markdown",
   "metadata": {},
   "source": [
    "# Selección óptima de portafolios II\n",
    "\n",
    "<img style=\"float: right; margin: 0px 0px 15px 15px;\" src=\"https://upload.wikimedia.org/wikipedia/commons/thumb/6/6e/Separation_theorem_of_MPT.svg/2000px-Separation_theorem_of_MPT.svg.png\" width=\"400px\" height=\"400px\" />\n",
    "\n",
    "Entonces, tenemos que:\n",
    "- La LAC describe las posibles selecciones de riesgo-rendimiento entre un activo libre de riesgo y un activo riesgoso.\n",
    "- Su pendiente es igual al radio de Sharpe del activo riesgoso.\n",
    "- La asignación óptima de capital para cualquier inversionista es el punto tangente de la curva de indiferencia del inversionista con la LAC.\n",
    "\n",
    "Para todo lo anterior, supusimos que ya teníamos el portafolio óptimo (activo riesgoso).\n",
    "\n",
    "En la clase pasada aprendimos a hallar este portafolio óptimo si el conjunto de activos riesgosos estaba conformado únicamente por dos activos:\n",
    "\n",
    "$$w_{1,EMV}=\\frac{(E[r_1]-r_f)\\sigma_2^2-(E[r_2]-r_f)\\sigma_{12}}{(E[r_2]-r_f)\\sigma_1^2+(E[r_1]-r_f)\\sigma_2^2-((E[r_1]-r_f)+(E[r_2]-r_f))\\sigma_{12}}.$$\n",
    "\n",
    "- Sin embargo, la complejidad del problema crece considerablemente con el número de variables, y la solución analítica deja de ser viable cuando mencionamos que un portafolio bien diversificado consta aproximadamente de 50-60 activos.\n",
    "- En esos casos, este problema se soluciona con rutinas numéricas que hagan la optimización por nosotros, porque son una solución viable y escalable a más variables.\n",
    " \n",
    "\n",
    "**Objetivos:**\n",
    "- ¿Cuál es el portafolio óptimo de activos riesgosos cuando tenemos más de dos activos?\n",
    " - ¿Cómo construir la frontera de mínima varianza cuando tenemos más de dos activos?\n",
    "\n",
    "*Referencia:*\n",
    "- Notas del curso \"Portfolio Selection and Risk Management\", Rice University, disponible en Coursera.\n",
    "___"
   ]
  },
  {
   "cell_type": "markdown",
   "metadata": {},
   "source": [
    "## 1. Maximizando el radio de Sharpe\n",
    "\n",
    "### ¿Qué pasa si tenemos más de dos activos riesgosos?\n",
    "\n",
    "En realidad es algo muy similar a lo que teníamos con dos activos.\n",
    "- Para dos activos, construir la frontera de mínima varianza es trivial: todas las posibles combinaciones.\n",
    "- Con más de dos activos, recordar la definición: la frontera de mínima varianza es el lugar geométrico de los portafolios que proveen el mínimo riesgo para un nivel de rendimiento dado.\n",
    "\n",
    "<font color=blue> Ver en el tablero.</font>"
   ]
  },
  {
   "cell_type": "markdown",
   "metadata": {},
   "source": [
    "Analíticamente:\n",
    "- $n$ activos, \n",
    "- caracterizados por $(\\sigma_i,E[r_i])$,\n",
    "- cada uno con peso $w_i$, con $i=1,2,\\dots,n$.\n",
    "\n",
    "Entonces, buscamos los pesos tales que\n",
    "\n",
    "\\begin{align}\n",
    "\\min_{w_1,\\dots,w_n} & \\quad \\sum_{i=1}^{n}w_i^2\\sigma_i^2+\\sum_{i=1}^{n}\\sum_{j=1,j\\neq i}^{n}w_iw_j\\sigma_{ij}\\\\\n",
    "\\text{s.a.}          & \\quad \\sum_{i=1}^{n}w_i=1, w_i\\geq0\\\\\n",
    "                     & \\quad \\sum_{i=1}^{n}w_iE[r_i]=\\bar{\\mu},\n",
    "\\end{align}\n",
    "\n",
    "donde $\\bar{\\mu}$ corresponde a un nivel de rendimiento objetivo. \n",
    "\n",
    "**Obviamente, tendríamos que resolver este problema para muchos niveles de rendimiento objetivo.**\n",
    "\n",
    "- <font color=blue> Explicar relación con gráfica.</font>\n",
    "\n",
    "- <font color=green> Recordar clase 10.</font>"
   ]
  },
  {
   "cell_type": "markdown",
   "metadata": {},
   "source": [
    "Lo anterior se puede escribir vectorialmente como:"
   ]
  },
  {
   "cell_type": "markdown",
   "metadata": {},
   "source": [
    "\\begin{align}\n",
    "\\min_{\\boldsymbol{w}} & \\quad \\boldsymbol{w}^T\\Sigma\\boldsymbol{w}\\\\\n",
    "\\text{s.a.}          & \\quad \\boldsymbol{1}^T\\boldsymbol{w}=1, \\boldsymbol{w}\\geq0\\\\\n",
    "                     & \\quad E[\\boldsymbol{r}^T]\\boldsymbol{w}=\\bar{\\mu},\n",
    "\\end{align}\n",
    "\n",
    "donde:\n",
    "- $\\boldsymbol{w}=\\left[w_1,\\dots,w_n\\right]^T$ es el vector de pesos,\n",
    "- $\\boldsymbol{1}=\\left[1,\\dots,1\\right]^T$ es un vector de unos,\n",
    "- $E[\\boldsymbol{r}]=\\left[E[r_1],\\dots,E[r_n]\\right]^T$ es el vector de rendimientos esperados, y\n",
    "- $\\Sigma=\\left[\\begin{array}{cccc}\\sigma_{1}^2 & \\sigma_{12}  & \\dots  & \\sigma_{1n} \\\\\n",
    "                                   \\sigma_{21}  & \\sigma_{2}^2 & \\dots  & \\sigma_{2n} \\\\\n",
    "                                   \\vdots       & \\vdots       & \\ddots & \\vdots      \\\\\n",
    "                                   \\sigma_{n1}  & \\sigma_{n2}  & \\dots  & \\sigma_{n}^2\\end{array}\\right]$ es la matriz de varianza-covarianza.\n",
    "                                   \n",
    "**Esta última forma es la que comúnmente usamos al programar, por ser eficiente y escalable a problemas de N variables.**"
   ]
  },
  {
   "cell_type": "markdown",
   "metadata": {},
   "source": [
    "### Entonces, ¿para cuántos niveles de rendimiento objetivo tendríamos que resolver el anterior problema con el fin de graficar la frontera de mínima varianza?\n",
    "- Observar que el problema puede volverse muy pesado a medida que incrementamos el número de activos en nuestro portafolio...\n",
    "- Una tarea bastante compleja."
   ]
  },
  {
   "cell_type": "markdown",
   "metadata": {},
   "source": [
    "### Sucede que, en realidad, sólo necesitamos conocer dos portafolios que estén sobre la *frontera de mínima varianza*.\n",
    "- Si logramos encontrar dos portafolios sobre la frontera, entonces podemos a la vez encontrar todas las posibles combinaciones de estos dos portafolios para trazar la frontera de mínima varianza.\n",
    "- Ver el caso de dos activos."
   ]
  },
  {
   "cell_type": "markdown",
   "metadata": {},
   "source": [
    "### ¿Qué portafolios usar?\n",
    "Hasta ahora, hemos estudiando profundamente como hallar dos portafolios muy importantes que de hecho yacen sobre la frontera de mínima varianza:\n",
    "1. Portafolio de EMV: máximo SR.\n",
    "2. Portafolio de mínima varianza: básicamente, el mismo problema anterior, sin la restricción de rendimiento objetivo.\n",
    "\n",
    "Luego, tomar todas las posibles combinaciones de dichos portafolios usando las fórmulas para dos activos de medias y varianzas:\n",
    "- w: peso para el portafolio EMV,\n",
    "- 1-w: peso para le portafolio de mínima varianza."
   ]
  },
  {
   "cell_type": "markdown",
   "metadata": {},
   "source": [
    "## 2. Ejemplo ilustrativo.\n",
    "\n",
    "Retomamos el ejemplo de mercados de acciones en los países integrantes del $G5$: EU, RU, Francia, Alemania y Japón."
   ]
  },
  {
   "cell_type": "code",
   "execution_count": 1,
   "metadata": {},
   "outputs": [],
   "source": [
    "# Importamos pandas y numpy\n",
    "import pandas as pd\n",
    "import numpy as np"
   ]
  },
  {
   "cell_type": "code",
   "execution_count": 2,
   "metadata": {},
   "outputs": [
    {
     "data": {
      "text/html": [
       "<div>\n",
       "<style scoped>\n",
       "    .dataframe tbody tr th:only-of-type {\n",
       "        vertical-align: middle;\n",
       "    }\n",
       "\n",
       "    .dataframe tbody tr th {\n",
       "        vertical-align: top;\n",
       "    }\n",
       "\n",
       "    .dataframe thead th {\n",
       "        text-align: right;\n",
       "    }\n",
       "</style>\n",
       "<table border=\"1\" class=\"dataframe\">\n",
       "  <thead>\n",
       "    <tr style=\"text-align: right;\">\n",
       "      <th></th>\n",
       "      <th>EU</th>\n",
       "      <th>RU</th>\n",
       "      <th>Francia</th>\n",
       "      <th>Alemania</th>\n",
       "      <th>Japon</th>\n",
       "    </tr>\n",
       "  </thead>\n",
       "  <tbody>\n",
       "    <tr>\n",
       "      <th>Media</th>\n",
       "      <td>0.1355</td>\n",
       "      <td>0.1589</td>\n",
       "      <td>0.1519</td>\n",
       "      <td>0.1435</td>\n",
       "      <td>0.1497</td>\n",
       "    </tr>\n",
       "    <tr>\n",
       "      <th>Volatilidad</th>\n",
       "      <td>0.1535</td>\n",
       "      <td>0.243</td>\n",
       "      <td>0.2324</td>\n",
       "      <td>0.2038</td>\n",
       "      <td>0.2298</td>\n",
       "    </tr>\n",
       "  </tbody>\n",
       "</table>\n",
       "</div>"
      ],
      "text/plain": [
       "                 EU      RU Francia Alemania   Japon\n",
       "Media        0.1355  0.1589  0.1519   0.1435  0.1497\n",
       "Volatilidad  0.1535   0.243  0.2324   0.2038  0.2298"
      ]
     },
     "execution_count": 2,
     "metadata": {},
     "output_type": "execute_result"
    }
   ],
   "source": [
    "# Resumen en base anual de rendimientos esperados y volatilidades\n",
    "annual_ret_summ = pd.DataFrame(columns=['EU', 'RU', 'Francia', 'Alemania', 'Japon'], index=['Media', 'Volatilidad'])\n",
    "annual_ret_summ.loc['Media'] = np.array([0.1355, 0.1589, 0.1519, 0.1435, 0.1497])\n",
    "annual_ret_summ.loc['Volatilidad'] = np.array([0.1535, 0.2430, 0.2324, 0.2038, 0.2298])\n",
    "\n",
    "annual_ret_summ.round(4)"
   ]
  },
  {
   "cell_type": "code",
   "execution_count": 3,
   "metadata": {},
   "outputs": [
    {
     "data": {
      "text/html": [
       "<div>\n",
       "<style scoped>\n",
       "    .dataframe tbody tr th:only-of-type {\n",
       "        vertical-align: middle;\n",
       "    }\n",
       "\n",
       "    .dataframe tbody tr th {\n",
       "        vertical-align: top;\n",
       "    }\n",
       "\n",
       "    .dataframe thead th {\n",
       "        text-align: right;\n",
       "    }\n",
       "</style>\n",
       "<table border=\"1\" class=\"dataframe\">\n",
       "  <thead>\n",
       "    <tr style=\"text-align: right;\">\n",
       "      <th></th>\n",
       "      <th>EU</th>\n",
       "      <th>RU</th>\n",
       "      <th>Francia</th>\n",
       "      <th>Alemania</th>\n",
       "      <th>Japon</th>\n",
       "    </tr>\n",
       "  </thead>\n",
       "  <tbody>\n",
       "    <tr>\n",
       "      <th>EU</th>\n",
       "      <td>1.0000</td>\n",
       "      <td>0.5003</td>\n",
       "      <td>0.4398</td>\n",
       "      <td>0.3681</td>\n",
       "      <td>0.2663</td>\n",
       "    </tr>\n",
       "    <tr>\n",
       "      <th>RU</th>\n",
       "      <td>0.5003</td>\n",
       "      <td>1.0000</td>\n",
       "      <td>0.5420</td>\n",
       "      <td>0.4265</td>\n",
       "      <td>0.3581</td>\n",
       "    </tr>\n",
       "    <tr>\n",
       "      <th>Francia</th>\n",
       "      <td>0.4398</td>\n",
       "      <td>0.5420</td>\n",
       "      <td>1.0000</td>\n",
       "      <td>0.6032</td>\n",
       "      <td>0.3923</td>\n",
       "    </tr>\n",
       "    <tr>\n",
       "      <th>Alemania</th>\n",
       "      <td>0.3681</td>\n",
       "      <td>0.4265</td>\n",
       "      <td>0.6032</td>\n",
       "      <td>1.0000</td>\n",
       "      <td>0.3663</td>\n",
       "    </tr>\n",
       "    <tr>\n",
       "      <th>Japon</th>\n",
       "      <td>0.2663</td>\n",
       "      <td>0.3581</td>\n",
       "      <td>0.3923</td>\n",
       "      <td>0.3663</td>\n",
       "      <td>1.0000</td>\n",
       "    </tr>\n",
       "  </tbody>\n",
       "</table>\n",
       "</div>"
      ],
      "text/plain": [
       "              EU      RU  Francia  Alemania   Japon\n",
       "EU        1.0000  0.5003   0.4398    0.3681  0.2663\n",
       "RU        0.5003  1.0000   0.5420    0.4265  0.3581\n",
       "Francia   0.4398  0.5420   1.0000    0.6032  0.3923\n",
       "Alemania  0.3681  0.4265   0.6032    1.0000  0.3663\n",
       "Japon     0.2663  0.3581   0.3923    0.3663  1.0000"
      ]
     },
     "execution_count": 3,
     "metadata": {},
     "output_type": "execute_result"
    }
   ],
   "source": [
    "# Matriz de correlación\n",
    "corr = pd.DataFrame(data= np.array([[1.0000, 0.5003, 0.4398, 0.3681, 0.2663],\n",
    "                                    [0.5003, 1.0000, 0.5420, 0.4265, 0.3581],\n",
    "                                    [0.4398, 0.5420, 1.0000, 0.6032, 0.3923],\n",
    "                                    [0.3681, 0.4265, 0.6032, 1.0000, 0.3663],\n",
    "                                    [0.2663, 0.3581, 0.3923, 0.3663, 1.0000]]),\n",
    "                    columns=annual_ret_summ.columns, index=annual_ret_summ.columns)\n",
    "corr.round(4)"
   ]
  },
  {
   "cell_type": "code",
   "execution_count": 4,
   "metadata": {},
   "outputs": [],
   "source": [
    "# Tasa libre de riesgo\n",
    "rf = 0.05"
   ]
  },
  {
   "cell_type": "markdown",
   "metadata": {},
   "source": [
    "Esta vez, supondremos que tenemos disponibles todos los mercados de acciones y el activo libre de riesgo."
   ]
  },
  {
   "cell_type": "markdown",
   "metadata": {},
   "source": [
    "#### 1. Construir la frontera de mínima varianza"
   ]
  },
  {
   "cell_type": "markdown",
   "metadata": {},
   "source": [
    "##### 1.1. Encontrar portafolio de mínima varianza"
   ]
  },
  {
   "cell_type": "code",
   "execution_count": 5,
   "metadata": {},
   "outputs": [],
   "source": [
    "# Importamos funcion minimize del modulo optimize de scipy\n",
    "from scipy.optimize import minimize"
   ]
  },
  {
   "cell_type": "code",
   "execution_count": 14,
   "metadata": {},
   "outputs": [],
   "source": [
    "## Construcción de parámetros\n",
    "# 1. Sigma: matriz de varianza-covarianza Sigma = S.dot(corr).dot(S)\n",
    "S = np.diag(annual_ret_summ.loc['Volatilidad'])\n",
    "Sigma = S.dot(corr).dot(S).astype(float)\n",
    "# 2. Eind: rendimientos esperados activos individuales\n",
    "Eind = annual_ret_summ.loc['Media'].values.astype(float)"
   ]
  },
  {
   "cell_type": "code",
   "execution_count": 15,
   "metadata": {},
   "outputs": [],
   "source": [
    "# Función objetivo\n",
    "def varianza(w, Sigma):\n",
    "    return w.T.dot(Sigma).dot(w)"
   ]
  },
  {
   "cell_type": "markdown",
   "metadata": {},
   "source": [
    "___\n",
    "### Explicación funciones lambda "
   ]
  },
  {
   "cell_type": "code",
   "execution_count": 20,
   "metadata": {},
   "outputs": [],
   "source": [
    "def f(x):\n",
    "    return x**2"
   ]
  },
  {
   "cell_type": "code",
   "execution_count": 21,
   "metadata": {},
   "outputs": [
    {
     "data": {
      "text/plain": [
       "(1, 100, 169)"
      ]
     },
     "execution_count": 21,
     "metadata": {},
     "output_type": "execute_result"
    }
   ],
   "source": [
    "f(1), f(10), f(13)"
   ]
  },
  {
   "cell_type": "code",
   "execution_count": 22,
   "metadata": {},
   "outputs": [],
   "source": [
    "g = lambda x: x**2"
   ]
  },
  {
   "cell_type": "code",
   "execution_count": 23,
   "metadata": {},
   "outputs": [
    {
     "data": {
      "text/plain": [
       "(1, 100, 169)"
      ]
     },
     "execution_count": 23,
     "metadata": {},
     "output_type": "execute_result"
    }
   ],
   "source": [
    "g(1), g(10), g(13)"
   ]
  },
  {
   "cell_type": "markdown",
   "metadata": {},
   "source": [
    "___"
   ]
  },
  {
   "cell_type": "code",
   "execution_count": 25,
   "metadata": {},
   "outputs": [],
   "source": [
    "# Número de activos\n",
    "n = len(Eind)\n",
    "# Dato inicial\n",
    "w0 = np.ones(n) / n\n",
    "# Cotas de las variables\n",
    "bnds = ((0, 1),) * n\n",
    "# Restricciones\n",
    "cons = {\"type\": \"eq\", \"fun\": lambda w: w.sum() - 1}"
   ]
  },
  {
   "cell_type": "code",
   "execution_count": 32,
   "metadata": {},
   "outputs": [],
   "source": [
    "# Portafolio de mínima varianza\n",
    "minvar = minimize(fun=varianza,\n",
    "                  x0=w0,\n",
    "                  args=(Sigma,),\n",
    "                  bounds=bnds,\n",
    "                  constraints=cons,\n",
    "                  tol=1e-10)"
   ]
  },
  {
   "cell_type": "code",
   "execution_count": 33,
   "metadata": {},
   "outputs": [
    {
     "data": {
      "text/plain": [
       "     fun: 0.018616443574850344\n",
       "     jac: array([0.03723289, 0.03879431, 0.03847277, 0.03723289, 0.03723289])\n",
       " message: 'Optimization terminated successfully.'\n",
       "    nfev: 70\n",
       "     nit: 10\n",
       "    njev: 10\n",
       "  status: 0\n",
       " success: True\n",
       "       x: array([6.20463011e-01, 8.67361738e-19, 5.42101086e-19, 2.03475313e-01,\n",
       "       1.76061676e-01])"
      ]
     },
     "execution_count": 33,
     "metadata": {},
     "output_type": "execute_result"
    }
   ],
   "source": [
    "minvar"
   ]
  },
  {
   "cell_type": "code",
   "execution_count": 34,
   "metadata": {},
   "outputs": [
    {
     "data": {
      "text/plain": [
       "(0.1396278783022745, 0.13644208872210342, 0.6568931855391253)"
      ]
     },
     "execution_count": 34,
     "metadata": {},
     "output_type": "execute_result"
    }
   ],
   "source": [
    "# Pesos, rendimiento, riesgo y razón de Sharpe del portafolio de mínima varianza\n",
    "w_minvar = minvar.x\n",
    "e_minvar = Eind.dot(w_minvar)\n",
    "s_minvar = (w_minvar.T.dot(Sigma).dot(w_minvar))**0.5\n",
    "rs_minvar = (e_minvar - rf) / s_minvar\n",
    "e_minvar, s_minvar, rs_minvar"
   ]
  },
  {
   "cell_type": "markdown",
   "metadata": {},
   "source": [
    "##### 1.2. Encontrar portafolio EMV"
   ]
  },
  {
   "cell_type": "code",
   "execution_count": 35,
   "metadata": {},
   "outputs": [],
   "source": [
    "# Función objetivo\n",
    "def menos_rs(w, Eind, rf, Sigma):\n",
    "    ep = Eind.dot(w)\n",
    "    sp = (w.T.dot(Sigma).dot(w))**0.5\n",
    "    rs = (ep - rf) / sp\n",
    "    return -rs"
   ]
  },
  {
   "cell_type": "code",
   "execution_count": 36,
   "metadata": {},
   "outputs": [],
   "source": [
    "# Número de activos\n",
    "n = len(Eind)\n",
    "# Dato inicial\n",
    "w0 = np.ones(n) / n\n",
    "# Cotas de las variables\n",
    "bnds = ((0, 1),) * n\n",
    "# Restricciones\n",
    "cons = {\"type\": \"eq\", \"fun\": lambda w: w.sum() - 1}"
   ]
  },
  {
   "cell_type": "code",
   "execution_count": 39,
   "metadata": {},
   "outputs": [],
   "source": [
    "# Portafolio EMV\n",
    "emv = minimize(fun=menos_rs,\n",
    "               x0=w0,\n",
    "               args=(Eind, rf, Sigma),\n",
    "               bounds=bnds,\n",
    "               constraints=cons,\n",
    "               tol=1e-10)"
   ]
  },
  {
   "cell_type": "code",
   "execution_count": 40,
   "metadata": {},
   "outputs": [
    {
     "data": {
      "text/plain": [
       "     fun: -0.6644375126752685\n",
       "     jac: array([-0.36087245, -0.36087371, -0.36087482, -0.36087404, -0.36087622])\n",
       " message: 'Optimization terminated successfully.'\n",
       "    nfev: 56\n",
       "     nit: 8\n",
       "    njev: 8\n",
       "  status: 0\n",
       " success: True\n",
       "       x: array([0.50729071, 0.07475346, 0.02413765, 0.18995791, 0.20386028])"
      ]
     },
     "execution_count": 40,
     "metadata": {},
     "output_type": "execute_result"
    }
   ],
   "source": [
    "emv"
   ]
  },
  {
   "cell_type": "code",
   "execution_count": 41,
   "metadata": {},
   "outputs": [
    {
     "data": {
      "text/plain": [
       "(0.14205956750708812, 0.13855263399626944, 0.6644375126752685)"
      ]
     },
     "execution_count": 41,
     "metadata": {},
     "output_type": "execute_result"
    }
   ],
   "source": [
    "# Pesos, rendimiento, riesgo y razón de Sharpe del portafolio EMV\n",
    "w_emv = emv.x\n",
    "e_emv = Eind.dot(w_emv)\n",
    "s_emv = (w_emv.T.dot(Sigma).dot(w_emv))**0.5\n",
    "rs_emv = (e_emv - rf) / s_emv\n",
    "e_emv, s_emv, rs_emv"
   ]
  },
  {
   "cell_type": "code",
   "execution_count": 42,
   "metadata": {},
   "outputs": [
    {
     "data": {
      "text/plain": [
       "(0.1396278783022745, 0.13644208872210342, 0.6568931855391253)"
      ]
     },
     "execution_count": 42,
     "metadata": {},
     "output_type": "execute_result"
    }
   ],
   "source": [
    "e_minvar, s_minvar, rs_minvar"
   ]
  },
  {
   "cell_type": "markdown",
   "metadata": {},
   "source": [
    "##### 1.3. Construir frontera de mínima varianza"
   ]
  },
  {
   "cell_type": "markdown",
   "metadata": {},
   "source": [
    "También debemos encontrar la covarianza (o correlación) entre estos dos portafolios:"
   ]
  },
  {
   "cell_type": "code",
   "execution_count": 43,
   "metadata": {},
   "outputs": [
    {
     "data": {
      "text/plain": [
       "0.018689768271811187"
      ]
     },
     "execution_count": 43,
     "metadata": {},
     "output_type": "execute_result"
    }
   ],
   "source": [
    "# Covarianza entre los portafolios\n",
    "cov = w_emv.T.dot(Sigma).dot(w_minvar)\n",
    "#cov = w_minvar.T.dot(Sigma).dot(w_emv)\n",
    "cov"
   ]
  },
  {
   "cell_type": "code",
   "execution_count": 44,
   "metadata": {},
   "outputs": [
    {
     "data": {
      "text/plain": [
       "0.988645903271872"
      ]
     },
     "execution_count": 44,
     "metadata": {},
     "output_type": "execute_result"
    }
   ],
   "source": [
    "# Correlación entre los portafolios\n",
    "corr = cov / (s_emv * s_minvar)\n",
    "corr"
   ]
  },
  {
   "cell_type": "code",
   "execution_count": 45,
   "metadata": {},
   "outputs": [
    {
     "data": {
      "text/plain": [
       "array([6.20463011e-01, 8.67361738e-19, 5.42101086e-19, 2.03475313e-01,\n",
       "       1.76061676e-01])"
      ]
     },
     "execution_count": 45,
     "metadata": {},
     "output_type": "execute_result"
    }
   ],
   "source": [
    "w_minvar"
   ]
  },
  {
   "cell_type": "code",
   "execution_count": 46,
   "metadata": {},
   "outputs": [
    {
     "data": {
      "text/plain": [
       "array([0.50729071, 0.07475346, 0.02413765, 0.18995791, 0.20386028])"
      ]
     },
     "execution_count": 46,
     "metadata": {},
     "output_type": "execute_result"
    }
   ],
   "source": [
    "w_emv"
   ]
  },
  {
   "cell_type": "code",
   "execution_count": 57,
   "metadata": {},
   "outputs": [],
   "source": [
    "# Vector de w\n",
    "w = np.linspace(0, 1, 101)"
   ]
  },
  {
   "cell_type": "code",
   "execution_count": 58,
   "metadata": {},
   "outputs": [
    {
     "data": {
      "text/html": [
       "<div>\n",
       "<style scoped>\n",
       "    .dataframe tbody tr th:only-of-type {\n",
       "        vertical-align: middle;\n",
       "    }\n",
       "\n",
       "    .dataframe tbody tr th {\n",
       "        vertical-align: top;\n",
       "    }\n",
       "\n",
       "    .dataframe thead th {\n",
       "        text-align: right;\n",
       "    }\n",
       "</style>\n",
       "<table border=\"1\" class=\"dataframe\">\n",
       "  <thead>\n",
       "    <tr style=\"text-align: right;\">\n",
       "      <th></th>\n",
       "      <th>w</th>\n",
       "      <th>1-w</th>\n",
       "      <th>Media</th>\n",
       "      <th>Vol</th>\n",
       "      <th>rs</th>\n",
       "    </tr>\n",
       "  </thead>\n",
       "  <tbody>\n",
       "    <tr>\n",
       "      <th>0</th>\n",
       "      <td>0.00</td>\n",
       "      <td>1.00</td>\n",
       "      <td>0.139628</td>\n",
       "      <td>0.136442</td>\n",
       "      <td>0.656893</td>\n",
       "    </tr>\n",
       "    <tr>\n",
       "      <th>1</th>\n",
       "      <td>0.01</td>\n",
       "      <td>0.99</td>\n",
       "      <td>0.139652</td>\n",
       "      <td>0.136448</td>\n",
       "      <td>0.657045</td>\n",
       "    </tr>\n",
       "    <tr>\n",
       "      <th>2</th>\n",
       "      <td>0.02</td>\n",
       "      <td>0.98</td>\n",
       "      <td>0.139677</td>\n",
       "      <td>0.136453</td>\n",
       "      <td>0.657195</td>\n",
       "    </tr>\n",
       "    <tr>\n",
       "      <th>3</th>\n",
       "      <td>0.03</td>\n",
       "      <td>0.97</td>\n",
       "      <td>0.139701</td>\n",
       "      <td>0.136460</td>\n",
       "      <td>0.657343</td>\n",
       "    </tr>\n",
       "    <tr>\n",
       "      <th>4</th>\n",
       "      <td>0.04</td>\n",
       "      <td>0.96</td>\n",
       "      <td>0.139725</td>\n",
       "      <td>0.136466</td>\n",
       "      <td>0.657490</td>\n",
       "    </tr>\n",
       "  </tbody>\n",
       "</table>\n",
       "</div>"
      ],
      "text/plain": [
       "      w   1-w     Media       Vol        rs\n",
       "0  0.00  1.00  0.139628  0.136442  0.656893\n",
       "1  0.01  0.99  0.139652  0.136448  0.657045\n",
       "2  0.02  0.98  0.139677  0.136453  0.657195\n",
       "3  0.03  0.97  0.139701  0.136460  0.657343\n",
       "4  0.04  0.96  0.139725  0.136466  0.657490"
      ]
     },
     "execution_count": 58,
     "metadata": {},
     "output_type": "execute_result"
    }
   ],
   "source": [
    "# DataFrame de portafolios: \n",
    "# 1. Índice: i\n",
    "# 2. Columnas 1-2: w, 1-w\n",
    "# 3. Columnas 3-4: E[r], sigma\n",
    "# 4. Columna 5: Sharpe ratio\n",
    "f_mv = pd.DataFrame({\n",
    "    \"w\": w,\n",
    "    \"1-w\": 1 - w,\n",
    "    \"Media\": w * e_emv + (1 - w) * e_minvar,\n",
    "    \"Vol\": ((w * s_emv)**2 + ((1 - w) * s_minvar)**2 + 2 * w * (1 - w) * cov)**0.5\n",
    "})\n",
    "f_mv[\"rs\"] = (f_mv[\"Media\"] - rf) / f_mv[\"Vol\"]\n",
    "f_mv.head()"
   ]
  },
  {
   "cell_type": "code",
   "execution_count": 59,
   "metadata": {},
   "outputs": [],
   "source": [
    "# Importar librerías de gráficos\n",
    "from matplotlib import pyplot as plt"
   ]
  },
  {
   "cell_type": "code",
   "execution_count": 60,
   "metadata": {},
   "outputs": [
    {
     "data": {
      "text/plain": [
       "<matplotlib.legend.Legend at 0x7f8934dbe0d0>"
      ]
     },
     "execution_count": 60,
     "metadata": {},
     "output_type": "execute_result"
    },
    {
     "data": {
      "image/png": "[encoded data removed]",
      "text/plain": [
       "<Figure size 432x288 with 2 Axes>"
      ]
     },
     "metadata": {
      "needs_background": "light"
     },
     "output_type": "display_data"
    }
   ],
   "source": [
    "# Gráfica de dispersión de puntos coloreando \n",
    "# de acuerdo a SR, los activos individuales\n",
    "# y los portafolios hallados\n",
    "# Frontera\n",
    "plt.scatter(f_mv[\"Vol\"], f_mv[\"Media\"], c=f_mv[\"rs\"], label=\"Front. MV\")\n",
    "# Activos ind\n",
    "for i in range(n):\n",
    "    plt.plot(annual_ret_summ.iloc[1, i], \n",
    "             annual_ret_summ.iloc[0, i],\n",
    "             \"o\",\n",
    "             ms=10,\n",
    "             label=annual_ret_summ.columns[i])\n",
    "# Port. óptimos\n",
    "plt.plot(s_minvar, e_minvar, '*g', ms=10, label=\"P. Min. Var\")\n",
    "plt.plot(s_emv, e_emv, '*b', ms=10, label=\"P. EMV\")\n",
    "# Etiquetas de los ejes\n",
    "plt.xlabel(\"Volatilidad $\\sigma$\")\n",
    "plt.ylabel(\"Rendimiento esperado $E[r]$\")\n",
    "plt.colorbar()\n",
    "# Leyenda\n",
    "plt.legend(loc=\"upper left\", bbox_to_anchor=(1.3, 1))"
   ]
  },
  {
   "cell_type": "markdown",
   "metadata": {},
   "source": [
    "**A partir de lo anterior, solo restaría construir la LAC y elegir la distribución de capital de acuerdo a las preferencias (aversión al riesgo).**\n",
    "___"
   ]
  },
  {
   "cell_type": "code",
   "execution_count": 61,
   "metadata": {},
   "outputs": [],
   "source": [
    "# Vector de wp variando entre 0 y 1.5 con n pasos\n",
    "wp = np.linspace(0, 1.5, 101)"
   ]
  },
  {
   "cell_type": "code",
   "execution_count": 62,
   "metadata": {},
   "outputs": [],
   "source": [
    "# DataFrame de CAL: \n",
    "# 1. Índice: i\n",
    "# 2. Columnas 1-2: wp, wrf\n",
    "# 3. Columnas 3-4: E[r], sigma\n",
    "# 4. Columna 5: Sharpe ratio\n",
    "lac = pd.DataFrame({\"wp\": wp,\n",
    "                    \"wrf\": 1 - wp,\n",
    "                    \"Media\": wp * e_emv + (1 - wp) * rf,\n",
    "                    \"Vol\": wp * s_emv})\n",
    "lac[\"RS\"] = (lac[\"Media\"] - rf) / lac[\"Vol\"]"
   ]
  },
  {
   "cell_type": "code",
   "execution_count": 63,
   "metadata": {},
   "outputs": [
    {
     "data": {
      "text/html": [
       "<div>\n",
       "<style scoped>\n",
       "    .dataframe tbody tr th:only-of-type {\n",
       "        vertical-align: middle;\n",
       "    }\n",
       "\n",
       "    .dataframe tbody tr th {\n",
       "        vertical-align: top;\n",
       "    }\n",
       "\n",
       "    .dataframe thead th {\n",
       "        text-align: right;\n",
       "    }\n",
       "</style>\n",
       "<table border=\"1\" class=\"dataframe\">\n",
       "  <thead>\n",
       "    <tr style=\"text-align: right;\">\n",
       "      <th></th>\n",
       "      <th>wp</th>\n",
       "      <th>wrf</th>\n",
       "      <th>Media</th>\n",
       "      <th>Vol</th>\n",
       "      <th>RS</th>\n",
       "    </tr>\n",
       "  </thead>\n",
       "  <tbody>\n",
       "    <tr>\n",
       "      <th>0</th>\n",
       "      <td>0.000</td>\n",
       "      <td>1.000</td>\n",
       "      <td>0.050000</td>\n",
       "      <td>0.000000</td>\n",
       "      <td>NaN</td>\n",
       "    </tr>\n",
       "    <tr>\n",
       "      <th>1</th>\n",
       "      <td>0.015</td>\n",
       "      <td>0.985</td>\n",
       "      <td>0.051381</td>\n",
       "      <td>0.002078</td>\n",
       "      <td>0.664438</td>\n",
       "    </tr>\n",
       "    <tr>\n",
       "      <th>2</th>\n",
       "      <td>0.030</td>\n",
       "      <td>0.970</td>\n",
       "      <td>0.052762</td>\n",
       "      <td>0.004157</td>\n",
       "      <td>0.664438</td>\n",
       "    </tr>\n",
       "    <tr>\n",
       "      <th>3</th>\n",
       "      <td>0.045</td>\n",
       "      <td>0.955</td>\n",
       "      <td>0.054143</td>\n",
       "      <td>0.006235</td>\n",
       "      <td>0.664438</td>\n",
       "    </tr>\n",
       "    <tr>\n",
       "      <th>4</th>\n",
       "      <td>0.060</td>\n",
       "      <td>0.940</td>\n",
       "      <td>0.055524</td>\n",
       "      <td>0.008313</td>\n",
       "      <td>0.664438</td>\n",
       "    </tr>\n",
       "    <tr>\n",
       "      <th>5</th>\n",
       "      <td>0.075</td>\n",
       "      <td>0.925</td>\n",
       "      <td>0.056904</td>\n",
       "      <td>0.010391</td>\n",
       "      <td>0.664438</td>\n",
       "    </tr>\n",
       "    <tr>\n",
       "      <th>6</th>\n",
       "      <td>0.090</td>\n",
       "      <td>0.910</td>\n",
       "      <td>0.058285</td>\n",
       "      <td>0.012470</td>\n",
       "      <td>0.664438</td>\n",
       "    </tr>\n",
       "    <tr>\n",
       "      <th>7</th>\n",
       "      <td>0.105</td>\n",
       "      <td>0.895</td>\n",
       "      <td>0.059666</td>\n",
       "      <td>0.014548</td>\n",
       "      <td>0.664438</td>\n",
       "    </tr>\n",
       "    <tr>\n",
       "      <th>8</th>\n",
       "      <td>0.120</td>\n",
       "      <td>0.880</td>\n",
       "      <td>0.061047</td>\n",
       "      <td>0.016626</td>\n",
       "      <td>0.664438</td>\n",
       "    </tr>\n",
       "    <tr>\n",
       "      <th>9</th>\n",
       "      <td>0.135</td>\n",
       "      <td>0.865</td>\n",
       "      <td>0.062428</td>\n",
       "      <td>0.018705</td>\n",
       "      <td>0.664438</td>\n",
       "    </tr>\n",
       "  </tbody>\n",
       "</table>\n",
       "</div>"
      ],
      "text/plain": [
       "      wp    wrf     Media       Vol        RS\n",
       "0  0.000  1.000  0.050000  0.000000       NaN\n",
       "1  0.015  0.985  0.051381  0.002078  0.664438\n",
       "2  0.030  0.970  0.052762  0.004157  0.664438\n",
       "3  0.045  0.955  0.054143  0.006235  0.664438\n",
       "4  0.060  0.940  0.055524  0.008313  0.664438\n",
       "5  0.075  0.925  0.056904  0.010391  0.664438\n",
       "6  0.090  0.910  0.058285  0.012470  0.664438\n",
       "7  0.105  0.895  0.059666  0.014548  0.664438\n",
       "8  0.120  0.880  0.061047  0.016626  0.664438\n",
       "9  0.135  0.865  0.062428  0.018705  0.664438"
      ]
     },
     "execution_count": 63,
     "metadata": {},
     "output_type": "execute_result"
    }
   ],
   "source": [
    "lac.head(10)"
   ]
  },
  {
   "cell_type": "code",
   "execution_count": 67,
   "metadata": {},
   "outputs": [
    {
     "data": {
      "text/plain": [
       "[0.13, 0.15, 0.135, 0.145]"
      ]
     },
     "execution_count": 67,
     "metadata": {},
     "output_type": "execute_result"
    },
    {
     "data": {
      "image/png": "[encoded data removed]",
      "text/plain": [
       "<Figure size 432x288 with 2 Axes>"
      ]
     },
     "metadata": {
      "needs_background": "light"
     },
     "output_type": "display_data"
    }
   ],
   "source": [
    "plt.scatter(f_mv[\"Vol\"], f_mv[\"Media\"], c=f_mv[\"rs\"], label=\"Front. MV\")\n",
    "# Activos ind\n",
    "for i in range(n):\n",
    "    plt.plot(annual_ret_summ.iloc[1, i], \n",
    "             annual_ret_summ.iloc[0, i],\n",
    "             \"o\",\n",
    "             ms=10,\n",
    "             label=annual_ret_summ.columns[i])\n",
    "# Port. óptimos\n",
    "plt.plot(s_minvar, e_minvar, '*g', ms=10, label=\"P. Min. Var\")\n",
    "plt.plot(s_emv, e_emv, '*b', ms=10, label=\"P. EMV\")\n",
    "# LAC\n",
    "plt.plot(lac[\"Vol\"], lac[\"Media\"], \"--k\", lw=3, label=\"LAC\")\n",
    "# Etiquetas de los ejes\n",
    "plt.xlabel(\"Volatilidad $\\sigma$\")\n",
    "plt.ylabel(\"Rendimiento esperado $E[r]$\")\n",
    "plt.colorbar()\n",
    "# Leyenda\n",
    "plt.legend(loc=\"upper left\", bbox_to_anchor=(1.3, 1))\n",
    "plt.axis([0.13, 0.15, 0.135, 0.145])"
   ]
  },
  {
   "cell_type": "code",
   "execution_count": 68,
   "metadata": {},
   "outputs": [
    {
     "data": {
      "text/plain": [
       "(0.9591120623418227, 0.04088793765817733)"
      ]
     },
     "execution_count": 68,
     "metadata": {},
     "output_type": "execute_result"
    }
   ],
   "source": [
    "# Para gamma=5\n",
    "g = 5\n",
    "w_opt = (e_emv - rf) / (g * s_emv**2)\n",
    "w_opt, 1 - w_opt"
   ]
  },
  {
   "cell_type": "code",
   "execution_count": 69,
   "metadata": {},
   "outputs": [
    {
     "data": {
      "text/plain": [
       "(array([0.48654864, 0.07169694, 0.02315071, 0.18219092, 0.19552485]),\n",
       " 0.04088793765817733)"
      ]
     },
     "execution_count": 69,
     "metadata": {},
     "output_type": "execute_result"
    }
   ],
   "source": [
    "# Ponderaciones finales\n",
    "w_opt * w_emv, 1 - w_opt"
   ]
  },
  {
   "cell_type": "markdown",
   "metadata": {},
   "source": [
    "## 3. Comentarios finales\n",
    "\n",
    "### 3.1. Restricciones adicionales\n",
    "\n",
    "Los inversionistas pueden tener restricciones adicionales:\n",
    "1. Restricciones en posiciones cortas.\n",
    "2. Pueden requerir un rendimiento mínimo.\n",
    "3. Inversión socialmente responsable: prescinden de inversiones en negocios o paises considerados éticamente o políticamente indeseables.\n",
    "\n",
    "Todo lo anterior se puede incluir como restricciones en el problema de optimización, y puede ser llevado a cabo a costa de un cociente de Sharpe menor."
   ]
  },
  {
   "cell_type": "markdown",
   "metadata": {},
   "source": [
    "### 3.2. Críticas a la optimización media varianza\n",
    "1. Solo importan medias y varianzas: recordar que la varianza subestima el riesgo en algunos casos.\n",
    "2. Preferencias media-varianza tratan las ganancias y pérdidas simétricamente: el sentimiento de insatisfacción de una perdida es mayor al sentimiento de satisfacción de una ganancia (aversión a pérdidas).\n",
    "3. La aversión al riesgo es constante: la actitud frente al riesgo puede cambiar, por ejemplo con el estado de la economía.\n",
    "4. Horizonte corto (un periodo).\n",
    "5. Basura entra - basura sale: la optimización media varianza es supremamente sensible a las entradas: estimaciones de rendimientos esperados y varianzas.\n",
    "___"
   ]
  },
  {
   "cell_type": "markdown",
   "metadata": {},
   "source": [
    "# Anuncios parroquiales\n",
    "\n",
    "## 1. Quiz la próxima clase (clases 12, 13, y 14).\n",
    "## 2. Revisar archivo Tarea 6.\n",
    "## 3. [Nota interesante](http://yetanothermathprogrammingconsultant.blogspot.com/2016/08/portfolio-optimization-maximize-sharpe.html)"
   ]
  },
  {
   "cell_type": "markdown",
   "metadata": {},
   "source": [
    "<script>\n",
    "  $(document).ready(function(){\n",
    "    $('div.prompt').hide();\n",
    "    $('div.back-to-top').hide();\n",
    "    $('nav#menubar').hide();\n",
    "    $('.breadcrumb').hide();\n",
    "    $('.hidden-print').hide();\n",
    "  });\n",
    "</script>\n",
    "\n",
    "<footer id=\"attribution\" style=\"float:right; color:#808080; background:#fff;\">\n",
    "Created with Jupyter by Esteban Jiménez Rodríguez.\n",
    "</footer>"
   ]
  }
 ],
 "metadata": {
  "kernelspec": {
   "display_name": "Python 3",
   "language": "python",
   "name": "python3"
  },
  "language_info": {
   "codemirror_mode": {
    "name": "ipython",
    "version": 3
   },
   "file_extension": ".py",
   "mimetype": "text/x-python",
   "name": "python",
   "nbconvert_exporter": "python",
   "pygments_lexer": "ipython3",
   "version": "3.7.6"
  }
 },
 "nbformat": 4,
 "nbformat_minor": 2
}
