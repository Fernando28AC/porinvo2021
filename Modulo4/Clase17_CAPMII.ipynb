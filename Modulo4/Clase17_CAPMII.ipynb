{
 "cells": [
  {
   "cell_type": "markdown",
   "metadata": {},
   "source": [
    "# Estimando $\\beta$ de los activos"
   ]
  },
  {
   "cell_type": "markdown",
   "metadata": {},
   "source": [
    "<img style=\"float: right; margin: 0px 0px 15px 15px;\" src=\"https://upload.wikimedia.org/wikipedia/commons/4/48/Capital_market_line_of_CAPM.svg\" width=\"400px\" height=\"400px\" />\n",
    "\n",
    "En la clase anterior aprendimos \n",
    "- ¿qué es el CAPM?; \n",
    "- ¿cuáles son los supuestos sobre los que se funda el CAPM?;\n",
    "- derivamos la fórmula del CAPM; y\n",
    "- aprendimos como obtener la $\\beta$ de un portafolio a partir de la $\\beta$ de activos individuales.\n",
    "\n",
    "En la clase de hoy estudiaremos una forma de estimar los $\\beta$ de activos individuales.\n",
    "\n",
    "**Objetivos:**\n",
    "- Revisitar riesgo sistemático y no sistemático.\n",
    "- Estudiar un método para estimar las $\\beta$ de los activos.\n",
    "\n",
    "*Referencia:*\n",
    "- Notas del curso \"Portfolio Selection and Risk Management\", Rice University, disponible en Coursera.\n",
    "- [Notas del curso \"Financial Engineering\", Columbia University](http://www.columbia.edu/~ks20/FE-Notes/FE-Notes-Sigman.html)\n",
    "___"
   ]
  },
  {
   "cell_type": "markdown",
   "metadata": {},
   "source": [
    "## <font color=green> Conclusiones de la [lectura](https://web.stanford.edu/~wfsharpe/art/parable/parable.htm). </font>"
   ]
  },
  {
   "cell_type": "markdown",
   "metadata": {},
   "source": [
    "## 1. Riesgo sistemático y no sistemático."
   ]
  },
  {
   "cell_type": "markdown",
   "metadata": {},
   "source": [
    "Recordamos la fórmula de CAPM:\n",
    "\n",
    "$$E[r_i]-r_f=\\beta_i(E[r_M]-r_f),$$\n",
    "\n",
    "donde $\\beta_i=\\frac{\\sigma_{M,i}}{\\sigma_M^2}$ y $\\sigma_{M,i}$ es la covarianza del portafolio de mercado con el activo individual $i$."
   ]
  },
  {
   "cell_type": "markdown",
   "metadata": {},
   "source": [
    "Todas las anteriores son variables determinísiticas.\n",
    "\n",
    "- ¿Qué pasa si usamos el CAPM como un modelo de rendimientos? Es decir,\n",
    "\n",
    "$$r_i=r_f+\\beta_i(r_M-r_f)+\\epsilon_i,$$\n",
    "\n",
    "donde $\\epsilon_i$ es un término de error."
   ]
  },
  {
   "cell_type": "markdown",
   "metadata": {},
   "source": [
    "<font color=green> Despejando $\\epsilon_i$, tenemos que: </font>\n",
    "\n",
    "- $E[\\epsilon_i]=0$, y\n",
    "- $cov(\\epsilon_i,r_M)=0$.\n",
    "\n",
    "<font color=green> Ver en el tablero. </font>"
   ]
  },
  {
   "cell_type": "markdown",
   "metadata": {},
   "source": [
    "Entonces, la varianza del activo $i$ es:\n",
    "\n",
    "$$\\sigma_i^2=\\beta_i^2\\sigma_M^2+var(\\epsilon_i),$$\n",
    "\n",
    "donde el primer término corresponde al riesgo sistemático (de mercado) y el segundo al riesgo idiosincrático.\n",
    "___"
   ]
  },
  {
   "cell_type": "markdown",
   "metadata": {},
   "source": [
    "## 2. Estimando $\\beta$ para un activo."
   ]
  },
  {
   "cell_type": "markdown",
   "metadata": {},
   "source": [
    "- En el mercado real, la cantidad de activos es ENORME, y tratar de construir el portafolio de mercado sería una tarea grandiosa, pero poco realista para un analista financiero. \n",
    "- Por lo tanto, los índices de mercado han sido creados para intentar aproximar el portafolio de mercado.\n",
    "- Dicho índice es un portafolio más pequeño que el de mercado, construido por los que se consideran los activos más dominantes, y que capturan la esencia de el portafolio de mercado."
   ]
  },
  {
   "cell_type": "markdown",
   "metadata": {},
   "source": [
    "- El índice de mercado más conocido es el Standard & Poor’s 500-stock index (S&P), compuesto de 500 activos.\n",
    "- Un $\\beta$ para un activo dado, se puede estimar utilizando el S&P en reemplazo de M, y utilizando datos históricos para ambos rendimientos (el del activo y el del S&P500).\n",
    "- Por ejemplo, considere un activo $i$ para el cual queremos estimar su $\\beta_i$.\n",
    "- Este estimado se construye usando medias, varianzas y covarianzas muestrales como sigue:\n",
    " - Escogemos $N$ rendimientos históricos, tales como los reportados mensualmente hace tres años.\n",
    " - Para $k=1,2,\\dots,N$, $r_{ik}$ y $r_{S\\&Pk}$ denotan el $k-$ésimo valor muestral de los rendimietos.\n",
    "\n",
    "Entonces\n",
    "\n",
    "$$\\hat{E[r_i]}=\\frac{1}{N}\\sum_{k=1}^{N}r_{ik}, \\text{ y}$$\n",
    "\n",
    "$$\\hat{E[r_{S\\&P}]}=\\frac{1}{N}\\sum_{k=1}^{N}r_{S\\&Pk}.$$"
   ]
  },
  {
   "cell_type": "markdown",
   "metadata": {},
   "source": [
    "Además, la varianza $\\sigma_{S\\&P}^2$ se estima como\n",
    "\n",
    "$$\\hat{\\sigma_{S\\&P}^2}=\\frac{1}{N-1}\\sum_{k=1}^{N}(r_{S\\&Pk}-\\hat{E[r_{S\\&P}]})^2,$$\n",
    "\n",
    "y la covarianza $\\sigma_{S\\&P,i}$\n",
    "\n",
    "$$\\hat{\\sigma_{S\\&P,i}}=\\frac{1}{N-1}\\sum_{k=1}^{N}(r_{S\\&Pk}-\\hat{E[r_{S\\&P}]})(r_{ik}-\\hat{E[r_i]})$$"
   ]
  },
  {
   "cell_type": "markdown",
   "metadata": {},
   "source": [
    "Finalmente, \n",
    "\n",
    "$$\\hat{\\beta_i}=\\frac{\\hat{\\sigma}_{S\\&P,i}}{\\hat{\\sigma}_{S\\&P}^2}.$$"
   ]
  },
  {
   "cell_type": "markdown",
   "metadata": {},
   "source": [
    "### Ejemplo...\n",
    "\n",
    "Entrar a yahoo finance, a la información de MSFT, AAPL y ^GSPC."
   ]
  },
  {
   "cell_type": "code",
   "execution_count": 2,
   "metadata": {},
   "outputs": [],
   "source": [
    "# Importar paquetes\n",
    "import pandas as pd\n",
    "import pandas_datareader.data as web"
   ]
  },
  {
   "cell_type": "code",
   "execution_count": 3,
   "metadata": {},
   "outputs": [],
   "source": [
    "# Función para descargar precios de cierre ajustados:\n",
    "def get_adj_closes(tickers, start_date=None, end_date=None, freq='m'):\n",
    "    # Fecha inicio por defecto (start_date='2010-01-01') y fecha fin por defecto (end_date=today)\n",
    "    # Descargamos DataFrame con todos los datos\n",
    "    closes = web.YahooDailyReader(symbols=tickers, start=start_date, end=end_date, interval=freq).read()['Adj Close']\n",
    "    # Se ordenan los índices de manera ascendente\n",
    "    closes.sort_index(inplace=True)\n",
    "    return closes"
   ]
  },
  {
   "cell_type": "code",
   "execution_count": 4,
   "metadata": {},
   "outputs": [],
   "source": [
    "# Importar datos de AAPL, MSFT, y ^GSPC\n",
    "closes = get_adj_closes([\"AAPL\", \"MSFT\", \"^GSPC\"])"
   ]
  },
  {
   "cell_type": "code",
   "execution_count": 5,
   "metadata": {},
   "outputs": [
    {
     "data": {
      "image/png": "[encoded data removed]",
      "text/plain": [
       "<Figure size 432x288 with 1 Axes>"
      ]
     },
     "metadata": {
      "needs_background": "light"
     },
     "output_type": "display_data"
    }
   ],
   "source": [
    "closes.plot();"
   ]
  },
  {
   "cell_type": "code",
   "execution_count": 6,
   "metadata": {},
   "outputs": [
    {
     "data": {
      "text/plain": [
       "(61, 3)"
      ]
     },
     "execution_count": 6,
     "metadata": {},
     "output_type": "execute_result"
    }
   ],
   "source": [
    "closes.shape"
   ]
  },
  {
   "cell_type": "code",
   "execution_count": 7,
   "metadata": {},
   "outputs": [],
   "source": [
    "# Obtener rendimientos mensuales\n",
    "ret = closes.pct_change().dropna()"
   ]
  },
  {
   "cell_type": "code",
   "execution_count": 8,
   "metadata": {
    "scrolled": true
   },
   "outputs": [
    {
     "data": {
      "image/png": "[encoded data removed]",
      "text/plain": [
       "<Figure size 432x288 with 1 Axes>"
      ]
     },
     "metadata": {
      "needs_background": "light"
     },
     "output_type": "display_data"
    }
   ],
   "source": [
    "ret.plot();"
   ]
  },
  {
   "cell_type": "code",
   "execution_count": 9,
   "metadata": {},
   "outputs": [
    {
     "data": {
      "text/html": [
       "<div>\n",
       "<style scoped>\n",
       "    .dataframe tbody tr th:only-of-type {\n",
       "        vertical-align: middle;\n",
       "    }\n",
       "\n",
       "    .dataframe tbody tr th {\n",
       "        vertical-align: top;\n",
       "    }\n",
       "\n",
       "    .dataframe thead th {\n",
       "        text-align: right;\n",
       "    }\n",
       "</style>\n",
       "<table border=\"1\" class=\"dataframe\">\n",
       "  <thead>\n",
       "    <tr style=\"text-align: right;\">\n",
       "      <th>Symbols</th>\n",
       "      <th>AAPL</th>\n",
       "      <th>MSFT</th>\n",
       "      <th>^GSPC</th>\n",
       "    </tr>\n",
       "    <tr>\n",
       "      <th>Symbols</th>\n",
       "      <th></th>\n",
       "      <th></th>\n",
       "      <th></th>\n",
       "    </tr>\n",
       "  </thead>\n",
       "  <tbody>\n",
       "    <tr>\n",
       "      <th>AAPL</th>\n",
       "      <td>0.007085</td>\n",
       "      <td>0.002664</td>\n",
       "      <td>0.002375</td>\n",
       "    </tr>\n",
       "    <tr>\n",
       "      <th>MSFT</th>\n",
       "      <td>0.002664</td>\n",
       "      <td>0.002420</td>\n",
       "      <td>0.001598</td>\n",
       "    </tr>\n",
       "    <tr>\n",
       "      <th>^GSPC</th>\n",
       "      <td>0.002375</td>\n",
       "      <td>0.001598</td>\n",
       "      <td>0.001944</td>\n",
       "    </tr>\n",
       "  </tbody>\n",
       "</table>\n",
       "</div>"
      ],
      "text/plain": [
       "Symbols      AAPL      MSFT     ^GSPC\n",
       "Symbols                              \n",
       "AAPL     0.007085  0.002664  0.002375\n",
       "MSFT     0.002664  0.002420  0.001598\n",
       "^GSPC    0.002375  0.001598  0.001944"
      ]
     },
     "execution_count": 9,
     "metadata": {},
     "output_type": "execute_result"
    }
   ],
   "source": [
    "# Obtener matriz de covarianza\n",
    "cov = ret.cov()\n",
    "cov"
   ]
  },
  {
   "cell_type": "code",
   "execution_count": 10,
   "metadata": {},
   "outputs": [
    {
     "data": {
      "text/plain": [
       "0.8220373206912308"
      ]
     },
     "execution_count": 10,
     "metadata": {},
     "output_type": "execute_result"
    }
   ],
   "source": [
    "# Beta de Microsoft\n",
    "beta_MSFT = cov.loc[\"^GSPC\", \"MSFT\"] / cov.loc[\"^GSPC\", \"^GSPC\"]\n",
    "beta_MSFT"
   ]
  },
  {
   "cell_type": "code",
   "execution_count": 11,
   "metadata": {},
   "outputs": [
    {
     "data": {
      "text/plain": [
       "1.2221853246493755"
      ]
     },
     "execution_count": 11,
     "metadata": {},
     "output_type": "execute_result"
    }
   ],
   "source": [
    "# Beta de Apple\n",
    "beta_AAPL = cov.loc[\"^GSPC\", \"AAPL\"] / cov.loc[\"^GSPC\", \"^GSPC\"]\n",
    "beta_AAPL"
   ]
  },
  {
   "cell_type": "markdown",
   "metadata": {},
   "source": [
    "## 3. Ejercicios"
   ]
  },
  {
   "cell_type": "markdown",
   "metadata": {},
   "source": [
    "Su portafolio de inversión consiste de $\\$150,000$ invertidos en un solo activo. Suponga que la tasa de interés libre de riesgo es $3\\%$. Este activo tiene un rendimiento esperado del $12\\%$, y una volatilidad del $40\\%$, y el portafolio de mercado tiene un rendimiento esperado del $10\\%$ y una volatilidad del $18\\%$. Bajo las suposiciones del CAPM, ¿cuál es la volatilidad de un mejor portafolio alternativo que tiene el mismo rendimiento que el activo?\n",
    "\n",
    "A. $\\sigma = 15.52\\%$\n",
    "\n",
    "**B. $\\sigma = 23.14\\%$**\n",
    "\n",
    "C. $\\sigma = 30.25\\%$ \n",
    "\n",
    "D. $\\sigma = 35.13\\%$ "
   ]
  },
  {
   "cell_type": "markdown",
   "metadata": {},
   "source": [
    "Con los mismos datos del ejercicio anterior, y suponiendo que usted está conforme con el riesgo del activo, bajo las suposiciones de CAPM, ¿cuál sería un mejor rendimiento esperado que debería ganar?\n",
    "\n",
    "A. $E[r] = 13.65\\%$\n",
    "\n",
    "B. $E[r] = 15.30\\%$\n",
    "\n",
    "**C. $E[r] = 18.56\\%$**\n",
    "\n",
    "D. $E[r] = 20.38\\%$ "
   ]
  },
  {
   "cell_type": "markdown",
   "metadata": {},
   "source": [
    "Suponga que usted tiene invertidos $\\$30,000$ en los siguientes cuatro activos:\n",
    "\n",
    "| Activo        | Cantidad invertida | $\\beta$ |\n",
    "| ------------- | ------------------ | ------- |\n",
    "| Activo A      | $\\$5,000$          | 0.75    |\n",
    "| Activo B      | $\\$10,000$         | 1.10    |\n",
    "| Activo C      | $\\$8,000$          | 1.36    |\n",
    "| Activo D      | $\\$7,000$          | 1.88    |\n",
    "\n",
    "La tasa libre de riesgo es del $2\\%$ y el rendimiento esperado del portafolio de mercado es del $8\\%$. Con base en el CAPM, ¿cuál es la $\\beta$ del portafolio?\n",
    "\n",
    "A. $\\beta_P = 0.95$\n",
    "\n",
    "B. $\\beta_P = 1.19$\n",
    "\n",
    "**C. $\\beta_P = 1.29$**\n",
    "\n",
    "D. $\\beta_P = 1.62$"
   ]
  },
  {
   "cell_type": "markdown",
   "metadata": {},
   "source": [
    "Considere la siguiente distribución de rendimientos:\n",
    "\n",
    "| Estado de la economía | Probabilidad       | $R_A$   |\n",
    "| --------------------- | ------------------ | ------- |\n",
    "| Depresión             | 0.30               | 0.10    |\n",
    "| Normal                | 0.50               | 0.15    |\n",
    "| Expansión             | 0.20               | 0.25    |\n",
    "\n",
    "Suponiendo que el CAPM es válido, que la volatilidad del portafolio de mercado es $\\sigma_M=0.10$ y que la correlación del activo A y el portafolio de mercado es $\\rho_{A,M}=0.9$, ¿cuál es el valor de $\\beta_A$?\n",
    "\n",
    "A. $\\beta_A=0.25$\n",
    "\n",
    "**B. $\\beta_A=0.47$**\n",
    "\n",
    "C. $\\beta_A=0.55$\n",
    "\n",
    "D. $\\beta_A=1.15$"
   ]
  },
  {
   "cell_type": "code",
   "execution_count": 12,
   "metadata": {},
   "outputs": [],
   "source": [
    "import pandas as pd\n",
    "\n",
    "tabla = pd.DataFrame({\"p\": [0.3, 0.5, 0.2], \"ra\": [0.1, 0.15, 0.25]})"
   ]
  },
  {
   "cell_type": "code",
   "execution_count": 13,
   "metadata": {},
   "outputs": [
    {
     "data": {
      "text/plain": [
       "0.05220153254455275"
      ]
     },
     "execution_count": 13,
     "metadata": {},
     "output_type": "execute_result"
    }
   ],
   "source": [
    "era = (tabla[\"p\"] * tabla[\"ra\"]).sum()\n",
    "sa = (tabla[\"p\"] * (tabla[\"ra\"] - era)**2).sum()**0.5\n",
    "sa"
   ]
  },
  {
   "cell_type": "markdown",
   "metadata": {},
   "source": [
    "Un fondo de inversiones con $\\beta=0.8$ tiene un rendimiento esperado del $16\\%$. Si la tasa libre de riesgo es $4\\%$ y el rendimiento esperado del portafolio de mercado es del $13\\%$, ¿debería invertir en este fondo?\n",
    "\n",
    "**A. Si.**\n",
    "\n",
    "B. No."
   ]
  },
  {
   "cell_type": "markdown",
   "metadata": {},
   "source": [
    "Suponga que encontramos un activo el cual, con base en su precio al día de hoy, tiene un rendimiento esperado más bajo que lo que sugiere la línea de mercado de activos. Si el CAPM es válido, ¿cuál(es) de las siguientes proposiciones es (son) verdaderas?\n",
    "\n",
    "A. Si el activo tiene un rendimiento esperado más bajo que el sugerido por la línea, significa que su precio es muy bajo.\n",
    "\n",
    "**B. Si el activo tiene un rendimiento esperado más bajo que el sugerido por la línea, significa que su precio es muy alto.**\n",
    "\n",
    "C. El activo se grafica por encima de la línea.\n",
    "\n",
    "**D. El activo se grafica bajo la línea.**"
   ]
  },
  {
   "cell_type": "markdown",
   "metadata": {},
   "source": [
    "# Anuncios parroquiales\n",
    "\n",
    "## 1. Último quiz: Lunes 1 de Noviembre.\n",
    "## 2. Revisar archivo Tarea7: Miércoles 3 de Noviembre."
   ]
  },
  {
   "cell_type": "markdown",
   "metadata": {},
   "source": [
    "<script>\n",
    "  $(document).ready(function(){\n",
    "    $('div.prompt').hide();\n",
    "    $('div.back-to-top').hide();\n",
    "    $('nav#menubar').hide();\n",
    "    $('.breadcrumb').hide();\n",
    "    $('.hidden-print').hide();\n",
    "  });\n",
    "</script>\n",
    "\n",
    "<footer id=\"attribution\" style=\"float:right; color:#808080; background:#fff;\">\n",
    "Created with Jupyter by Esteban Jiménez Rodríguez.\n",
    "</footer>"
   ]
  }
 ],
 "metadata": {
  "kernelspec": {
   "display_name": "Python 3",
   "language": "python",
   "name": "python3"
  },
  "language_info": {
   "codemirror_mode": {
    "name": "ipython",
    "version": 3
   },
   "file_extension": ".py",
   "mimetype": "text/x-python",
   "name": "python",
   "nbconvert_exporter": "python",
   "pygments_lexer": "ipython3",
   "version": "3.7.6"
  }
 },
 "nbformat": 4,
 "nbformat_minor": 2
}
